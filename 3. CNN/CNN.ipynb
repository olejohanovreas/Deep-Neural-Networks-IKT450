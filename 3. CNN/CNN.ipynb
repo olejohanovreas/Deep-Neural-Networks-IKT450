{
 "cells": [
  {
   "cell_type": "code",
   "id": "initial_id",
   "metadata": {
    "collapsed": true,
    "ExecuteTime": {
     "end_time": "2024-10-04T11:52:57.526170Z",
     "start_time": "2024-10-04T11:52:57.522647Z"
    }
   },
   "source": [
    "import numpy as np\n",
    "from PIL import Image\n",
    "\n",
    "import torch\n",
    "import torch.nn as nn\n",
    "import torch.nn.functional as F\n",
    "import torch.optim as optim\n",
    "\n",
    "import torchvision\n",
    "import torchvision.transforms as transforms\n",
    "from torch import get_file_path\n",
    "from torch.utils.data import Dataset, DataLoader\n",
    "import os"
   ],
   "outputs": [],
   "execution_count": 57
  },
  {
   "metadata": {
    "ExecuteTime": {
     "end_time": "2024-10-04T11:52:57.536195Z",
     "start_time": "2024-10-04T11:52:57.533164Z"
    }
   },
   "cell_type": "code",
   "source": [
    "device = torch.device(\"cuda\" if torch.cuda.is_available() else \"cpu\")\n",
    "print(torch.cuda.get_device_name(0))"
   ],
   "id": "4b1bb0bc43be7e0d",
   "outputs": [
    {
     "name": "stdout",
     "output_type": "stream",
     "text": [
      "NVIDIA GeForce RTX 3070\n"
     ]
    }
   ],
   "execution_count": 58
  },
  {
   "metadata": {
    "ExecuteTime": {
     "end_time": "2024-10-04T11:52:57.622675Z",
     "start_time": "2024-10-04T11:52:57.619390Z"
    }
   },
   "cell_type": "code",
   "source": [
    "class CustomImageDataset(Dataset):\n",
    "    def __init__(self, img_dir, transform=None):\n",
    "        self.img_dir = img_dir\n",
    "        self.transform = transform\n",
    "\n",
    "    def __len__(self):\n",
    "        return len(self.img_dir)\n",
    "\n",
    "    def __getitem__(self, idx):\n",
    "        img_path = self.img_dir[idx]\n",
    "        image = Image.open(img_path)\n",
    "\n",
    "        label = int(os.path.basename(img_path).split('_')[0])\n",
    "\n",
    "        if self.transform:\n",
    "            image = self.transform(image)\n",
    "\n",
    "        return image, label"
   ],
   "id": "343a53fc2025c95f",
   "outputs": [],
   "execution_count": 59
  },
  {
   "metadata": {
    "ExecuteTime": {
     "end_time": "2024-10-04T11:52:57.732046Z",
     "start_time": "2024-10-04T11:52:57.698460Z"
    }
   },
   "cell_type": "code",
   "source": [
    "def get_file_paths(folder):\n",
    "    return [os.path.join(folder, fname) for fname in os.listdir(folder) if fname.endswith('.jpg')]\n",
    "\n",
    "\n",
    "train_data = get_file_paths('dataset/training')\n",
    "val_data = get_file_paths('dataset/validation')\n",
    "eval_data = get_file_paths('dataset/evaluation')"
   ],
   "id": "fb89e649e0fb1fc0",
   "outputs": [],
   "execution_count": 60
  },
  {
   "metadata": {
    "ExecuteTime": {
     "end_time": "2024-10-04T11:52:57.815733Z",
     "start_time": "2024-10-04T11:52:57.812922Z"
    }
   },
   "cell_type": "code",
   "source": [
    "transform = transforms.Compose([\n",
    "    transforms.Resize((32, 32)),\n",
    "    transforms.ToTensor(),\n",
    "    transforms.Normalize((0.5, 0.5, 0.5), (0.5, 0.5, 0.5))\n",
    "])"
   ],
   "id": "5166bb154da02631",
   "outputs": [],
   "execution_count": 61
  },
  {
   "metadata": {
    "ExecuteTime": {
     "end_time": "2024-10-04T11:52:57.899713Z",
     "start_time": "2024-10-04T11:52:57.896257Z"
    }
   },
   "cell_type": "code",
   "source": [
    "train_dataset = CustomImageDataset(train_data, transform=transform)\n",
    "val_dataset = CustomImageDataset(val_data, transform=transform)\n",
    "eval_dataset = CustomImageDataset(eval_data, transform=transform)\n",
    "\n",
    "train_loader = DataLoader(train_dataset, batch_size=32, shuffle=True)\n",
    "val_loader = DataLoader(val_dataset, batch_size=32, shuffle=True)\n",
    "eval_loader = DataLoader(eval_dataset, batch_size=32, shuffle=True)"
   ],
   "id": "b96c740d7284fdc3",
   "outputs": [],
   "execution_count": 62
  },
  {
   "metadata": {
    "ExecuteTime": {
     "end_time": "2024-10-04T11:52:57.985514Z",
     "start_time": "2024-10-04T11:52:57.980491Z"
    }
   },
   "cell_type": "code",
   "source": "image, label = train_dataset[0]",
   "id": "c692fdd1768f7c58",
   "outputs": [],
   "execution_count": 63
  },
  {
   "metadata": {
    "ExecuteTime": {
     "end_time": "2024-10-04T11:52:58.067750Z",
     "start_time": "2024-10-04T11:52:58.064795Z"
    }
   },
   "cell_type": "code",
   "source": "image.size()",
   "id": "9c431e941ce51939",
   "outputs": [
    {
     "data": {
      "text/plain": [
       "torch.Size([3, 32, 32])"
      ]
     },
     "execution_count": 64,
     "metadata": {},
     "output_type": "execute_result"
    }
   ],
   "execution_count": 64
  },
  {
   "metadata": {
    "ExecuteTime": {
     "end_time": "2024-10-04T11:52:58.152610Z",
     "start_time": "2024-10-04T11:52:58.149818Z"
    }
   },
   "cell_type": "code",
   "source": "class_names = ['Bread', 'Dairy product', 'Dessert', 'Egg', 'Fried food', 'Meat', 'Noodles/Pasta', 'Rice', 'Seafood', 'Soup', 'Vegetable/Fruit']",
   "id": "9ff91300fe046f86",
   "outputs": [],
   "execution_count": 65
  },
  {
   "metadata": {
    "ExecuteTime": {
     "end_time": "2024-10-04T11:52:58.236703Z",
     "start_time": "2024-10-04T11:52:58.232777Z"
    }
   },
   "cell_type": "code",
   "source": [
    "class NeuralNet(nn.Module):\n",
    "    def __init__(self):\n",
    "        super().__init__()\n",
    "        self.conv1 = nn.Conv2d(3, 12, 5)  # (12, 28, 28)\n",
    "        self.pool = nn.MaxPool2d(2, 2)  # (12, 14, 14)\n",
    "        self.conv2 = nn.Conv2d(12, 24, 4)  # (24, 10, 10) -> (24, 5, 5) -> Flatten (24 * 5 * 5)\n",
    "        self.fc1 = nn.Linear(24 * 5 * 5, 120)\n",
    "        self.fc2 = nn.Linear(120, 84)\n",
    "        self.fc3 = nn.Linear(84, 11)\n",
    "\n",
    "    def forward(self, x):\n",
    "        x = self.pool(F.relu(self.conv1(x)))\n",
    "        x = self.pool(F.relu(self.conv2(x)))\n",
    "        x = torch.flatten(x, 1)\n",
    "        x = F.relu(self.fc1(x))\n",
    "        x = F.relu(self.fc2(x))\n",
    "        x = self.fc3(x)\n",
    "        return x\n"
   ],
   "id": "d80dbf7f9223ea14",
   "outputs": [],
   "execution_count": 66
  },
  {
   "metadata": {
    "ExecuteTime": {
     "end_time": "2024-10-04T11:52:58.320672Z",
     "start_time": "2024-10-04T11:52:58.314670Z"
    }
   },
   "cell_type": "code",
   "source": [
    "net = NeuralNet().to(device)\n",
    "loss_function = nn.CrossEntropyLoss()\n",
    "optimizer = optim.SGD(net.parameters(), lr=0.001, momentum=0.9)"
   ],
   "id": "9d86a654a9c6b322",
   "outputs": [],
   "execution_count": 67
  },
  {
   "metadata": {
    "ExecuteTime": {
     "end_time": "2024-10-04T11:56:57.499177Z",
     "start_time": "2024-10-04T11:52:58.399711Z"
    }
   },
   "cell_type": "code",
   "source": [
    "for epoch in range(10):\n",
    "    print(f'Training epoch {epoch}...')\n",
    "\n",
    "    running_loss = 0.0\n",
    "\n",
    "    for i, data in enumerate(train_loader):\n",
    "        inputs, labels = data\n",
    "        inputs, labels = inputs.to(device), labels.to(device)\n",
    "\n",
    "        optimizer.zero_grad()\n",
    "\n",
    "        outputs = net(inputs)\n",
    "\n",
    "        loss = loss_function(outputs, labels)\n",
    "        loss.backward()\n",
    "        optimizer.step()\n",
    "\n",
    "        running_loss += loss.item()\n",
    "\n",
    "    print(f'Loss: {running_loss / len(train_loader):.4f}')"
   ],
   "id": "539ee366715ea88b",
   "outputs": [
    {
     "name": "stdout",
     "output_type": "stream",
     "text": [
      "Training epoch 0...\n",
      "Loss: 2.3627\n",
      "Training epoch 1...\n",
      "Loss: 2.2798\n",
      "Training epoch 2...\n",
      "Loss: 2.2568\n",
      "Training epoch 3...\n",
      "Loss: 2.2373\n",
      "Training epoch 4...\n",
      "Loss: 2.2183\n",
      "Training epoch 5...\n",
      "Loss: 2.1984\n",
      "Training epoch 6...\n",
      "Loss: 2.1786\n",
      "Training epoch 7...\n",
      "Loss: 2.1511\n",
      "Training epoch 8...\n",
      "Loss: 2.1132\n",
      "Training epoch 9...\n",
      "Loss: 2.0860\n"
     ]
    }
   ],
   "execution_count": 68
  },
  {
   "metadata": {
    "ExecuteTime": {
     "end_time": "2024-10-04T11:56:57.615933Z",
     "start_time": "2024-10-04T11:56:57.610607Z"
    }
   },
   "cell_type": "code",
   "source": "torch.save(net.state_dict(), 'trained_nett.pth')",
   "id": "3b71dd6be7467024",
   "outputs": [],
   "execution_count": 69
  },
  {
   "metadata": {
    "ExecuteTime": {
     "end_time": "2024-10-04T11:56:57.722584Z",
     "start_time": "2024-10-04T11:56:57.712488Z"
    }
   },
   "cell_type": "code",
   "source": [
    "net = NeuralNet()\n",
    "net.load_state_dict(torch.load('trained_nett.pth'))"
   ],
   "id": "85b6bf47002eb78e",
   "outputs": [
    {
     "name": "stderr",
     "output_type": "stream",
     "text": [
      "C:\\Users\\Ole-Johan\\AppData\\Local\\Temp\\ipykernel_11984\\775912913.py:2: FutureWarning: You are using `torch.load` with `weights_only=False` (the current default value), which uses the default pickle module implicitly. It is possible to construct malicious pickle data which will execute arbitrary code during unpickling (See https://github.com/pytorch/pytorch/blob/main/SECURITY.md#untrusted-models for more details). In a future release, the default value for `weights_only` will be flipped to `True`. This limits the functions that could be executed during unpickling. Arbitrary objects will no longer be allowed to be loaded via this mode unless they are explicitly allowlisted by the user via `torch.serialization.add_safe_globals`. We recommend you start setting `weights_only=True` for any use case where you don't have full control of the loaded file. Please open an issue on GitHub for any issues related to this experimental feature.\n",
      "  net.load_state_dict(torch.load('trained_nett.pth'))\n"
     ]
    },
    {
     "data": {
      "text/plain": [
       "<All keys matched successfully>"
      ]
     },
     "execution_count": 70,
     "metadata": {},
     "output_type": "execute_result"
    }
   ],
   "execution_count": 70
  },
  {
   "metadata": {
    "ExecuteTime": {
     "end_time": "2024-10-04T11:56:57.896045Z",
     "start_time": "2024-10-04T11:56:57.812681Z"
    }
   },
   "cell_type": "code",
   "source": [
    "correct = 0\n",
    "total = 0\n",
    "\n",
    "net.eval()\n",
    "with torch.no_grad():\n",
    "    for data in eval_loader:\n",
    "        images, labels = data\n",
    "        inputs, labels = inputs.to(device), labels.to(device)\n",
    "        outputs = net(images)\n",
    "        _, predicted = torch.max(outputs, 1)\n",
    "        total += labels.size(0)\n",
    "        correct += (predicted == labels).sum().item()\n",
    "\n",
    "accuracy = 100 * correct / total\n",
    "\n",
    "print(f'Accuracy: {accuracy}%')"
   ],
   "id": "a26f1cdc7a24224c",
   "outputs": [
    {
     "ename": "RuntimeError",
     "evalue": "Expected all tensors to be on the same device, but found at least two devices, cuda:0 and cpu!",
     "output_type": "error",
     "traceback": [
      "\u001B[1;31m---------------------------------------------------------------------------\u001B[0m",
      "\u001B[1;31mRuntimeError\u001B[0m                              Traceback (most recent call last)",
      "Cell \u001B[1;32mIn[71], line 12\u001B[0m\n\u001B[0;32m     10\u001B[0m         _, predicted \u001B[38;5;241m=\u001B[39m torch\u001B[38;5;241m.\u001B[39mmax(outputs, \u001B[38;5;241m1\u001B[39m)\n\u001B[0;32m     11\u001B[0m         total \u001B[38;5;241m+\u001B[39m\u001B[38;5;241m=\u001B[39m labels\u001B[38;5;241m.\u001B[39msize(\u001B[38;5;241m0\u001B[39m)\n\u001B[1;32m---> 12\u001B[0m         correct \u001B[38;5;241m+\u001B[39m\u001B[38;5;241m=\u001B[39m (\u001B[43mpredicted\u001B[49m\u001B[43m \u001B[49m\u001B[38;5;241;43m==\u001B[39;49m\u001B[43m \u001B[49m\u001B[43mlabels\u001B[49m)\u001B[38;5;241m.\u001B[39msum()\u001B[38;5;241m.\u001B[39mitem()\n\u001B[0;32m     14\u001B[0m accuracy \u001B[38;5;241m=\u001B[39m \u001B[38;5;241m100\u001B[39m \u001B[38;5;241m*\u001B[39m correct \u001B[38;5;241m/\u001B[39m total\n\u001B[0;32m     16\u001B[0m \u001B[38;5;28mprint\u001B[39m(\u001B[38;5;124mf\u001B[39m\u001B[38;5;124m'\u001B[39m\u001B[38;5;124mAccuracy: \u001B[39m\u001B[38;5;132;01m{\u001B[39;00maccuracy\u001B[38;5;132;01m}\u001B[39;00m\u001B[38;5;124m%\u001B[39m\u001B[38;5;124m'\u001B[39m)\n",
      "\u001B[1;31mRuntimeError\u001B[0m: Expected all tensors to be on the same device, but found at least two devices, cuda:0 and cpu!"
     ]
    }
   ],
   "execution_count": 71
  }
 ],
 "metadata": {
  "kernelspec": {
   "display_name": "Python 3",
   "language": "python",
   "name": "python3"
  },
  "language_info": {
   "codemirror_mode": {
    "name": "ipython",
    "version": 2
   },
   "file_extension": ".py",
   "mimetype": "text/x-python",
   "name": "python",
   "nbconvert_exporter": "python",
   "pygments_lexer": "ipython2",
   "version": "2.7.6"
  }
 },
 "nbformat": 4,
 "nbformat_minor": 5
}
